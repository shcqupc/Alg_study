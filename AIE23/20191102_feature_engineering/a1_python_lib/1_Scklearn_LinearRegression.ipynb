{
 "cells": [
  {
   "cell_type": "code",
   "execution_count": 11,
   "metadata": {
    "collapsed": true
   },
   "outputs": [],
   "source": [
    "from __future__ import print_function\n",
    "from sklearn import datasets\n",
    "from sklearn.linear_model import LinearRegression\n",
    "import matplotlib.pyplot as plt"
   ]
  },
  {
   "cell_type": "markdown",
   "metadata": {},
   "source": [
    "Load and return the boston house-prices dataset (regression).\n",
    "Samples total\t506\n",
    "Dimensionality\t13\n",
    "Targets\treal 5. - 50."
   ]
  },
  {
   "cell_type": "markdown",
   "metadata": {},
   "source": [
    "\n",
    "波士顿房价数据集（Boston House Price Dataset）包含对房价的预测，以千美元计，给定的条件是房屋及其相邻房屋的详细信息。\n",
    "该数据集是一个回归问题。每个类的观察值数量是均等的，共有 506 个观察，13 个输入变量和1个输出变量。变量名如下：\n",
    "CRIM：城镇人均犯罪率。\n",
    "ZN：住宅用地超过 25000 sq.ft. 的比例。\n",
    "INDUS：城镇非零售商用土地的比例。\n",
    "CHAS：查理斯河空变量（如果边界是河流，则为1；否则为0）。\n",
    "NOX：一氧化氮浓度。\n",
    "RM：住宅平均房间数。\n",
    "AGE：1940 年之前建成的自用房屋比例。\n",
    "DIS：到波士顿五个中心区域的加权距离。\n",
    "RAD：辐射性公路的接近指数。\n",
    "TAX：每 10000 美元的全值财产税率。\n",
    "PTRATIO：城镇师生比例。\n",
    "B：1000（Bk-0.63）^ 2，其中 Bk 指代城镇中黑人的比例。\n",
    "LSTAT：人口中地位低下者的比例。\n",
    "MEDV：自住房的平均房价，以千美元计。\n",
    "预测平均值的基准性能的均方根误差（RMSE）是约 9.21 千美元。\n",
    "数据集前5行的示例如下：\n",
    "\n",
    "\n"
   ]
  },
  {
   "cell_type": "code",
   "execution_count": 20,
   "metadata": {
    "collapsed": true
   },
   "outputs": [
    {
     "name": "stdout",
     "output_type": "stream",
     "text": [
      "(506, 13)\n[[  6.32000000e-03   1.80000000e+01   2.31000000e+00   0.00000000e+00\n    5.38000000e-01   6.57500000e+00   6.52000000e+01   4.09000000e+00\n    1.00000000e+00   2.96000000e+02   1.53000000e+01   3.96900000e+02\n    4.98000000e+00]\n [  2.73100000e-02   0.00000000e+00   7.07000000e+00   0.00000000e+00\n    4.69000000e-01   6.42100000e+00   7.89000000e+01   4.96710000e+00\n    2.00000000e+00   2.42000000e+02   1.78000000e+01   3.96900000e+02\n    9.14000000e+00]\n [  2.72900000e-02   0.00000000e+00   7.07000000e+00   0.00000000e+00\n    4.69000000e-01   7.18500000e+00   6.11000000e+01   4.96710000e+00\n    2.00000000e+00   2.42000000e+02   1.78000000e+01   3.92830000e+02\n    4.03000000e+00]\n [  3.23700000e-02   0.00000000e+00   2.18000000e+00   0.00000000e+00\n    4.58000000e-01   6.99800000e+00   4.58000000e+01   6.06220000e+00\n    3.00000000e+00   2.22000000e+02   1.87000000e+01   3.94630000e+02\n    2.94000000e+00]\n [  6.90500000e-02   0.00000000e+00   2.18000000e+00   0.00000000e+00\n    4.58000000e-01   7.14700000e+00   5.42000000e+01   6.06220000e+00\n    3.00000000e+00   2.22000000e+02   1.87000000e+01   3.96900000e+02\n    5.33000000e+00]]\n[ 24.   21.6  34.7  33.4  36.2]\n"
     ]
    }
   ],
   "source": [
    "loaded_data = datasets.load_boston()\n",
    "data_X = loaded_data.data\n",
    "data_y = loaded_data.target\n",
    "\n",
    "print(loaded_data.data.shape)\n",
    "print(data_X[0:5])\n",
    "print(data_y[0:5])"
   ]
  },
  {
   "cell_type": "code",
   "execution_count": 21,
   "metadata": {
    "collapsed": false
   },
   "outputs": [
    {
     "name": "stdout",
     "output_type": "stream",
     "text": [
      "[ 30.00821269  25.0298606   30.5702317   28.60814055]\n[ 24.   21.6  34.7  33.4]\n"
     ]
    }
   ],
   "source": [
    "model = LinearRegression()\n",
    "model.fit(data_X, data_y)\n",
    "print(model.predict(data_X[:4,:]))\n",
    "print(data_y[:4])"
   ]
  },
  {
   "cell_type": "code",
   "execution_count": 15,
   "metadata": {
    "collapsed": false
   },
   "outputs": [
    {
     "name": "stdout",
     "output_type": "stream",
     "text": [
      "[ 30.00821269  25.0298606   30.5702317   28.60814055]\n[ 24.   21.6  34.7  33.4]\n"
     ]
    }
   ],
   "source": [
    "print(model.predict(data_X[:4,:]))\n",
    "print(data_y[:4])"
   ]
  },
  {
   "cell_type": "code",
   "execution_count": 22,
   "metadata": {
    "collapsed": false
   },
   "outputs": [],
   "source": [
    ""
   ]
  }
 ],
 "metadata": {
  "kernelspec": {
   "display_name": "Python 3",
   "language": "python",
   "name": "python3"
  },
  "language_info": {
   "codemirror_mode": {
    "name": "ipython",
    "version": 3.0
   },
   "file_extension": ".py",
   "mimetype": "text/x-python",
   "name": "python",
   "nbconvert_exporter": "python",
   "pygments_lexer": "ipython3",
   "version": "3.5.2"
  },
  "widgets": {
   "state": {},
   "version": "1.1.2"
  }
 },
 "nbformat": 4,
 "nbformat_minor": 0
}