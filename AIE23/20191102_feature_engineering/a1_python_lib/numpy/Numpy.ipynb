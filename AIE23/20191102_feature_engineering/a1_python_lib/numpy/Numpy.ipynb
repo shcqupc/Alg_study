{
 "cells": [
  {
   "cell_type": "markdown",
   "metadata": {},
   "source": [
    "# 下面为Numpy的使用实例"
   ]
  },
  {
   "cell_type": "code",
   "execution_count": 8,
   "metadata": {
    "collapsed": false
   },
   "outputs": [
    {
     "name": "stdout",
     "output_type": "stream",
     "text": [
      "[1 2 3]\n",
      "[0 1 2 3 4 5 6 7 8 9]\n",
      "[3 5]\n",
      "[[1 2]\n",
      " [3 4]]\n"
     ]
    }
   ],
   "source": [
    "import numpy as np\n",
    "from matplotlib import pyplot as plt\n",
    "# 一维\n",
    "a = np.array([1, 2, 3]); \n",
    "print(a)\n",
    "\n",
    "# 等间隔数字的数组\n",
    "b = np.arange(10); \n",
    "print(b)\n",
    "\n",
    "b = np.arange(3,7,2); \n",
    "print(b) \n",
    "\n",
    "# 二维\n",
    "c = np.array([[1, 2], [3, 4]]); \n",
    "print(c) \n"
   ]
  },
  {
   "cell_type": "code",
   "execution_count": 9,
   "metadata": {
    "collapsed": false
   },
   "outputs": [
    {
     "name": "stdout",
     "output_type": "stream",
     "text": [
      "[[1 2 3]\n",
      " [4 5 6]]\n",
      "[[1 2]\n",
      " [3 4]\n",
      " [5 6]]\n"
     ]
    }
   ],
   "source": [
    "# 调整数组shape\n",
    "a = np.array([[1, 2, 3], [4, 5, 6]]); \n",
    "print(a); \n",
    "\n",
    "a.shape = (3, 2); \n",
    "print(a)                  "
   ]
  },
  {
   "cell_type": "code",
   "execution_count": 4,
   "metadata": {
    "collapsed": false
   },
   "outputs": [
    {
     "name": "stdout",
     "output_type": "stream",
     "text": [
      "[ 0  1  2  3  4  5  6  7  8  9 10 11 12 13 14 15 16 17 18 19 20 21 22 23]\n",
      "1\n",
      "3\n",
      "[[1 1]\n",
      " [1 1]\n",
      " [1 1]]\n"
     ]
    }
   ],
   "source": [
    "# ndim:返回数组的维数\n",
    "a = np.arange(24);\n",
    "print(a)\n",
    "print(a.ndim) # 1\n",
    "\n",
    "# numpy.reshape: 在不改变数据的条件下修改形状\n",
    "b = a.reshape(2, 4, 3); print(b.ndim) # 3\n",
    "\n",
    "# 空数组\n",
    "x = np.empty([3, 2], dtype='i1'); print(x) # 数组x的元素为随机值，因为它们未初始化"
   ]
  },
  {
   "cell_type": "code",
   "execution_count": 10,
   "metadata": {
    "collapsed": false
   },
   "outputs": [
    {
     "name": "stdout",
     "output_type": "stream",
     "text": [
      "[0 0 0 0 0]\n",
      "[[1 1 1]\n",
      " [1 1 1]]\n",
      "range(0, 5)\n"
     ]
    }
   ],
   "source": [
    "# 含有5个0的数组，若不指定类型，则默认为float\n",
    "x = np.zeros(5, dtype=np.int); \n",
    "print(x) \n",
    "\n",
    "# 含有6个1的二维数组，若不指定类型，则默认为float\n",
    "x = np.ones([2, 3], dtype=int); \n",
    "print(x) \n",
    "\n",
    "# 使用内置的range()函数创建列表对象\n",
    "x = range(5); \n",
    "print(x) # range(0, 5)\n"
   ]
  },
  {
   "cell_type": "code",
   "execution_count": 11,
   "metadata": {
    "collapsed": false
   },
   "outputs": [
    {
     "name": "stdout",
     "output_type": "stream",
     "text": [
      "[-2 -4]\n"
     ]
    }
   ],
   "source": [
    "# 算数运算：add, subtract, multiply, divide, reciprocal, power, mod 输入数组必须具有相同的形状或符合数组广播规则\n",
    "a, b = [5, 6], [7, 10]\n",
    "c = np.subtract(a, b); \n",
    "print(c) "
   ]
  },
  {
   "cell_type": "code",
   "execution_count": 12,
   "metadata": {
    "collapsed": false
   },
   "outputs": [
    {
     "name": "stdout",
     "output_type": "stream",
     "text": [
      "1\n",
      "3.0\n"
     ]
    }
   ],
   "source": [
    "# 统计函数：用于从数组中给定的元素中查找最小，最大，百分标准差和方差等, amin, amax, ptp, percentile, median, mean, average, std\n",
    "a = np.array([1, 2, 3, 4, 5])\n",
    "print(np.amin(a)) \n",
    "print(np.mean(a)) "
   ]
  },
  {
   "cell_type": "code",
   "execution_count": null,
   "metadata": {
    "collapsed": true
   },
   "outputs": [],
   "source": []
  }
 ],
 "metadata": {
  "kernelspec": {
   "display_name": "Python [conda env:Anaconda3]",
   "language": "python",
   "name": "conda-env-Anaconda3-py"
  },
  "language_info": {
   "codemirror_mode": {
    "name": "ipython",
    "version": 3
   },
   "file_extension": ".py",
   "mimetype": "text/x-python",
   "name": "python",
   "nbconvert_exporter": "python",
   "pygments_lexer": "ipython3",
   "version": "3.5.2"
  }
 },
 "nbformat": 4,
 "nbformat_minor": 2
}
